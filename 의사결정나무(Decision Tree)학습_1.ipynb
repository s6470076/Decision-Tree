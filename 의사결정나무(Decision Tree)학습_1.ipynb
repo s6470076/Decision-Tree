{
 "cells": [
  {
   "cell_type": "code",
   "execution_count": 2,
   "metadata": {},
   "outputs": [],
   "source": [
    "import matplotlib.pyplot as plt\n",
    "import random\n",
    "from sklearn import datasets, tree\n",
    "from sklearn.metrics import accuracy_score, confusion_matrix\n",
    "from sklearn.metrics import precision_score, recall_score, f1_score"
   ]
  },
  {
   "cell_type": "markdown",
   "metadata": {},
   "source": [
    "## 의사결정트리 실습 순서 1. 데이터 읽어오기"
   ]
  },
  {
   "cell_type": "code",
   "execution_count": 3,
   "metadata": {},
   "outputs": [],
   "source": [
    "digits = datasets.load_digits()"
   ]
  },
  {
   "cell_type": "code",
   "execution_count": 4,
   "metadata": {},
   "outputs": [
    {
     "data": {
      "image/png": "[encoded data removed]",
      "text/plain": [
       "<Figure size 432x288 with 10 Axes>"
      ]
     },
     "metadata": {
      "needs_background": "light"
     },
     "output_type": "display_data"
    }
   ],
   "source": [
    "# 이미지 읽어 오기\n",
    "for label, img in zip(digits.target[:10],digits.images[:10]):\n",
    "    plt.subplot(2,5,label + 1)\n",
    "    plt.imshow(img, cmap=plt.cm.gray_r, interpolation='nearest')\n",
    "    plt.title('Digit:{0}'.format(label))\n",
    "plt.show()"
   ]
  },
  {
   "cell_type": "code",
   "execution_count": 5,
   "metadata": {},
   "outputs": [
    {
     "name": "stdout",
     "output_type": "stream",
     "text": [
      "{'data': array([[ 0.,  0.,  5., ...,  0.,  0.,  0.],\n",
      "       [ 0.,  0.,  0., ..., 10.,  0.,  0.],\n",
      "       [ 0.,  0.,  0., ..., 16.,  9.,  0.],\n",
      "       ...,\n",
      "       [ 0.,  0.,  1., ...,  6.,  0.,  0.],\n",
      "       [ 0.,  0.,  2., ..., 12.,  0.,  0.],\n",
      "       [ 0.,  0., 10., ..., 12.,  1.,  0.]]), 'target': array([0, 1, 2, ..., 8, 9, 8]), 'frame': None, 'feature_names': ['pixel_0_0', 'pixel_0_1', 'pixel_0_2', 'pixel_0_3', 'pixel_0_4', 'pixel_0_5', 'pixel_0_6', 'pixel_0_7', 'pixel_1_0', 'pixel_1_1', 'pixel_1_2', 'pixel_1_3', 'pixel_1_4', 'pixel_1_5', 'pixel_1_6', 'pixel_1_7', 'pixel_2_0', 'pixel_2_1', 'pixel_2_2', 'pixel_2_3', 'pixel_2_4', 'pixel_2_5', 'pixel_2_6', 'pixel_2_7', 'pixel_3_0', 'pixel_3_1', 'pixel_3_2', 'pixel_3_3', 'pixel_3_4', 'pixel_3_5', 'pixel_3_6', 'pixel_3_7', 'pixel_4_0', 'pixel_4_1', 'pixel_4_2', 'pixel_4_3', 'pixel_4_4', 'pixel_4_5', 'pixel_4_6', 'pixel_4_7', 'pixel_5_0', 'pixel_5_1', 'pixel_5_2', 'pixel_5_3', 'pixel_5_4', 'pixel_5_5', 'pixel_5_6', 'pixel_5_7', 'pixel_6_0', 'pixel_6_1', 'pixel_6_2', 'pixel_6_3', 'pixel_6_4', 'pixel_6_5', 'pixel_6_6', 'pixel_6_7', 'pixel_7_0', 'pixel_7_1', 'pixel_7_2', 'pixel_7_3', 'pixel_7_4', 'pixel_7_5', 'pixel_7_6', 'pixel_7_7'], 'target_names': array([0, 1, 2, 3, 4, 5, 6, 7, 8, 9]), 'images': array([[[ 0.,  0.,  5., ...,  1.,  0.,  0.],\n",
      "        [ 0.,  0., 13., ..., 15.,  5.,  0.],\n",
      "        [ 0.,  3., 15., ..., 11.,  8.,  0.],\n",
      "        ...,\n",
      "        [ 0.,  4., 11., ..., 12.,  7.,  0.],\n",
      "        [ 0.,  2., 14., ..., 12.,  0.,  0.],\n",
      "        [ 0.,  0.,  6., ...,  0.,  0.,  0.]],\n",
      "\n",
      "       [[ 0.,  0.,  0., ...,  5.,  0.,  0.],\n",
      "        [ 0.,  0.,  0., ...,  9.,  0.,  0.],\n",
      "        [ 0.,  0.,  3., ...,  6.,  0.,  0.],\n",
      "        ...,\n",
      "        [ 0.,  0.,  1., ...,  6.,  0.,  0.],\n",
      "        [ 0.,  0.,  1., ...,  6.,  0.,  0.],\n",
      "        [ 0.,  0.,  0., ..., 10.,  0.,  0.]],\n",
      "\n",
      "       [[ 0.,  0.,  0., ..., 12.,  0.,  0.],\n",
      "        [ 0.,  0.,  3., ..., 14.,  0.,  0.],\n",
      "        [ 0.,  0.,  8., ..., 16.,  0.,  0.],\n",
      "        ...,\n",
      "        [ 0.,  9., 16., ...,  0.,  0.,  0.],\n",
      "        [ 0.,  3., 13., ..., 11.,  5.,  0.],\n",
      "        [ 0.,  0.,  0., ..., 16.,  9.,  0.]],\n",
      "\n",
      "       ...,\n",
      "\n",
      "       [[ 0.,  0.,  1., ...,  1.,  0.,  0.],\n",
      "        [ 0.,  0., 13., ...,  2.,  1.,  0.],\n",
      "        [ 0.,  0., 16., ..., 16.,  5.,  0.],\n",
      "        ...,\n",
      "        [ 0.,  0., 16., ..., 15.,  0.,  0.],\n",
      "        [ 0.,  0., 15., ..., 16.,  0.,  0.],\n",
      "        [ 0.,  0.,  2., ...,  6.,  0.,  0.]],\n",
      "\n",
      "       [[ 0.,  0.,  2., ...,  0.,  0.,  0.],\n",
      "        [ 0.,  0., 14., ..., 15.,  1.,  0.],\n",
      "        [ 0.,  4., 16., ..., 16.,  7.,  0.],\n",
      "        ...,\n",
      "        [ 0.,  0.,  0., ..., 16.,  2.,  0.],\n",
      "        [ 0.,  0.,  4., ..., 16.,  2.,  0.],\n",
      "        [ 0.,  0.,  5., ..., 12.,  0.,  0.]],\n",
      "\n",
      "       [[ 0.,  0., 10., ...,  1.,  0.,  0.],\n",
      "        [ 0.,  2., 16., ...,  1.,  0.,  0.],\n",
      "        [ 0.,  0., 15., ..., 15.,  0.,  0.],\n",
      "        ...,\n",
      "        [ 0.,  4., 16., ..., 16.,  6.,  0.],\n",
      "        [ 0.,  8., 16., ..., 16.,  8.,  0.],\n",
      "        [ 0.,  1.,  8., ..., 12.,  1.,  0.]]]), 'DESCR': \".. _digits_dataset:\\n\\nOptical recognition of handwritten digits dataset\\n--------------------------------------------------\\n\\n**Data Set Characteristics:**\\n\\n    :Number of Instances: 5620\\n    :Number of Attributes: 64\\n    :Attribute Information: 8x8 image of integer pixels in the range 0..16.\\n    :Missing Attribute Values: None\\n    :Creator: E. Alpaydin (alpaydin '@' boun.edu.tr)\\n    :Date: July; 1998\\n\\nThis is a copy of the test set of the UCI ML hand-written digits datasets\\nhttps://archive.ics.uci.edu/ml/datasets/Optical+Recognition+of+Handwritten+Digits\\n\\nThe data set contains images of hand-written digits: 10 classes where\\neach class refers to a digit.\\n\\nPreprocessing programs made available by NIST were used to extract\\nnormalized bitmaps of handwritten digits from a preprinted form. From a\\ntotal of 43 people, 30 contributed to the training set and different 13\\nto the test set. 32x32 bitmaps are divided into nonoverlapping blocks of\\n4x4 and the number of on pixels are counted in each block. This generates\\nan input matrix of 8x8 where each element is an integer in the range\\n0..16. This reduces dimensionality and gives invariance to small\\ndistortions.\\n\\nFor info on NIST preprocessing routines, see M. D. Garris, J. L. Blue, G.\\nT. Candela, D. L. Dimmick, J. Geist, P. J. Grother, S. A. Janet, and C.\\nL. Wilson, NIST Form-Based Handprint Recognition System, NISTIR 5469,\\n1994.\\n\\n.. topic:: References\\n\\n  - C. Kaynak (1995) Methods of Combining Multiple Classifiers and Their\\n    Applications to Handwritten Digit Recognition, MSc Thesis, Institute of\\n    Graduate Studies in Science and Engineering, Bogazici University.\\n  - E. Alpaydin, C. Kaynak (1998) Cascading Classifiers, Kybernetika.\\n  - Ken Tang and Ponnuthurai N. Suganthan and Xi Yao and A. Kai Qin.\\n    Linear dimensionalityreduction using relevance weighted LDA. School of\\n    Electrical and Electronic Engineering Nanyang Technological University.\\n    2005.\\n  - Claudio Gentile. A New Approximate Maximal Margin Classification\\n    Algorithm. NIPS. 2000.\"}\n"
     ]
    }
   ],
   "source": [
    "# digits 확인\n",
    "print(digits)"
   ]
  },
  {
   "cell_type": "code",
   "execution_count": 6,
   "metadata": {},
   "outputs": [
    {
     "data": {
      "text/plain": [
       "(9,\n",
       " array([[ 0.,  0., 11., 12.,  0.,  0.,  0.,  0.],\n",
       "        [ 0.,  2., 16., 16., 16., 13.,  0.,  0.],\n",
       "        [ 0.,  3., 16., 12., 10., 14.,  0.,  0.],\n",
       "        [ 0.,  1., 16.,  1., 12., 15.,  0.,  0.],\n",
       "        [ 0.,  0., 13., 16.,  9., 15.,  2.,  0.],\n",
       "        [ 0.,  0.,  0.,  3.,  0.,  9., 11.,  0.],\n",
       "        [ 0.,  0.,  0.,  0.,  9., 15.,  4.,  0.],\n",
       "        [ 0.,  0.,  9., 12., 13.,  3.,  0.,  0.]]),\n",
       " (8, 8))"
      ]
     },
     "execution_count": 6,
     "metadata": {},
     "output_type": "execute_result"
    }
   ],
   "source": [
    "label, img, img.shape"
   ]
  },
  {
   "cell_type": "code",
   "execution_count": 7,
   "metadata": {},
   "outputs": [],
   "source": [
    "images = digits.images\n",
    "labels = digits.target\n",
    "\n",
    "#차원을 하나 줄인다 -------------------------why?----------------------------\n",
    "images = images.reshape(images.shape[0],-1)"
   ]
  },
  {
   "cell_type": "markdown",
   "metadata": {},
   "source": [
    "## 의사결정트리 실습 순서 2. 모델 만들기"
   ]
  },
  {
   "cell_type": "code",
   "execution_count": 8,
   "metadata": {},
   "outputs": [
    {
     "data": {
      "text/plain": [
       "DecisionTreeClassifier(max_depth=3)"
      ]
     },
     "execution_count": 8,
     "metadata": {},
     "output_type": "execute_result"
    }
   ],
   "source": [
    "n_samples = len(images)\n",
    "train_size = int(n_samples * 2/3)\n",
    "classifier = tree.DecisionTreeClassifier(max_depth=3)\n",
    "classifier.fit(images[:train_size], labels[:train_size])"
   ]
  },
  {
   "cell_type": "markdown",
   "metadata": {},
   "source": [
    "## 의사결정트리 실습 순서 3. 예측하기"
   ]
  },
  {
   "cell_type": "code",
   "execution_count": 9,
   "metadata": {},
   "outputs": [],
   "source": [
    "expected = labels[train_size:]\n",
    "predicted = classifier.predict(images[train_size:])"
   ]
  },
  {
   "cell_type": "markdown",
   "metadata": {},
   "source": [
    "## 의사결정트리 실습 순서 4. 평가하기"
   ]
  },
  {
   "cell_type": "code",
   "execution_count": 10,
   "metadata": {},
   "outputs": [
    {
     "name": "stdout",
     "output_type": "stream",
     "text": [
      "Accuracy:\n",
      " 0.44908180300500833\n",
      "Confusion matrix:\n",
      " [[57  0  1  0  1  0  0  0  0  0]\n",
      " [ 0  0 25 16  6  0  0 15  0  0]\n",
      " [ 1  0 49  6  0  1  0  3  0  0]\n",
      " [ 0  0 10 46  0  0  0  5  0  1]\n",
      " [ 4  0 27  0 30  0  0  1  0  0]\n",
      " [ 0  0  2 29 20  5  0  3  0  0]\n",
      " [ 0  0 55  5  0  1  0  0  0  0]\n",
      " [ 0  0  0  0  6  0  0 55  0  0]\n",
      " [ 0  0 33  6  2  1  0 13  0  0]\n",
      " [ 2  0  1 21  7  0  0  0  0 27]]\n"
     ]
    }
   ],
   "source": [
    "print('Accuracy:\\n',\n",
    "      accuracy_score(expected, predicted))\n",
    "print('Confusion matrix:\\n',\n",
    "      confusion_matrix(expected, predicted))"
   ]
  },
  {
   "cell_type": "code",
   "execution_count": 11,
   "metadata": {},
   "outputs": [
    {
     "data": {
      "text/plain": [
       "(array([[ 0.,  0., 11., 12.,  0.,  0.,  0.,  0.],\n",
       "        [ 0.,  2., 16., 16., 16., 13.,  0.,  0.],\n",
       "        [ 0.,  3., 16., 12., 10., 14.,  0.,  0.],\n",
       "        [ 0.,  1., 16.,  1., 12., 15.,  0.,  0.],\n",
       "        [ 0.,  0., 13., 16.,  9., 15.,  2.,  0.],\n",
       "        [ 0.,  0.,  0.,  3.,  0.,  9., 11.,  0.],\n",
       "        [ 0.,  0.,  0.,  0.,  9., 15.,  4.,  0.],\n",
       "        [ 0.,  0.,  9., 12., 13.,  3.,  0.,  0.]]),\n",
       " (8, 8))"
      ]
     },
     "execution_count": 11,
     "metadata": {},
     "output_type": "execute_result"
    }
   ],
   "source": [
    "img, img.shape"
   ]
  },
  {
   "cell_type": "code",
   "execution_count": 12,
   "metadata": {},
   "outputs": [
    {
     "data": {
      "text/plain": [
       "1797"
      ]
     },
     "execution_count": 12,
     "metadata": {},
     "output_type": "execute_result"
    }
   ],
   "source": [
    "n_samples"
   ]
  },
  {
   "cell_type": "code",
   "execution_count": 13,
   "metadata": {},
   "outputs": [
    {
     "data": {
      "text/plain": [
       "array([4, 1, 7, 7, 3, 5, 1, 0, 0, 2, 2, 7, 8, 2, 0, 1, 2, 6, 3, 3, 7, 3,\n",
       "       3, 4, 6, 6, 6, 4, 9, 1, 5, 0, 9, 5, 2, 8, 2, 0, 0, 1, 7, 6, 3, 2,\n",
       "       1, 7, 4, 6, 3, 1, 3, 9, 1, 7, 6, 8, 4, 3, 1, 4, 0, 5, 3, 6, 9, 6,\n",
       "       1, 7, 5, 4, 4, 7, 2, 8, 2, 2, 5, 7, 9, 5, 4, 8, 8, 4, 9, 0, 8, 9,\n",
       "       8, 0, 1, 2, 3, 4, 5, 6, 7, 8, 9, 0, 1, 2, 3, 4, 5, 6, 7, 8, 9, 0,\n",
       "       1, 2, 3, 4, 5, 6, 7, 8, 9, 0, 9, 5, 5, 6, 5, 0, 9, 8, 9, 8, 4, 1,\n",
       "       7, 7, 3, 5, 1, 0, 0, 2, 2, 7, 8, 2, 0, 1, 2, 6, 3, 3, 7, 3, 3, 4,\n",
       "       6, 6, 6, 4, 9, 1, 5, 0, 9, 5, 2, 8, 2, 0, 0, 1, 7, 6, 3, 2, 1, 7,\n",
       "       4, 6, 3, 1, 3, 9, 1, 7, 6, 8, 4, 3, 1, 4, 0, 5, 3, 6, 9, 6, 1, 7,\n",
       "       5, 4, 4, 7, 2, 8, 2, 2, 5, 7, 9, 5, 4, 8, 8, 4, 9, 0, 8, 0, 1, 2,\n",
       "       3, 4, 5, 6, 7, 8, 9, 0, 1, 2, 3, 4, 5, 6, 7, 8, 9, 0, 1, 2, 3, 4,\n",
       "       5, 6, 7, 8, 9, 0, 9, 5, 5, 6, 5, 0, 9, 8, 9, 8, 4, 1, 7, 7, 3, 5,\n",
       "       1, 0, 0, 2, 2, 7, 8, 2, 0, 1, 2, 6, 3, 3, 7, 3, 3, 4, 6, 6, 6, 4,\n",
       "       9, 1, 5, 0, 9, 5, 2, 8, 2, 0, 0, 1, 7, 6, 3, 2, 1, 7, 4, 6, 3, 1,\n",
       "       3, 9, 1, 7, 6, 8, 4, 3, 1, 4, 0, 5, 3, 6, 9, 6, 1, 7, 5, 4, 4, 7,\n",
       "       2, 8, 2, 2, 5, 7, 9, 5, 4, 8, 8, 4, 9, 0, 8, 9, 8, 0, 1, 2, 3, 4,\n",
       "       5, 6, 7, 8, 9, 0, 1, 2, 3, 4, 5, 6, 9, 0, 1, 2, 3, 4, 5, 6, 7, 8,\n",
       "       9, 0, 9, 5, 5, 6, 5, 0, 9, 8, 9, 8, 4, 1, 7, 7, 3, 5, 1, 0, 0, 2,\n",
       "       2, 7, 8, 2, 0, 1, 2, 6, 3, 3, 7, 3, 3, 4, 6, 6, 6, 4, 9, 1, 5, 0,\n",
       "       9, 5, 2, 8, 0, 1, 7, 6, 3, 2, 1, 7, 4, 6, 3, 1, 3, 9, 1, 7, 6, 8,\n",
       "       4, 3, 1, 4, 0, 5, 3, 6, 9, 6, 1, 7, 5, 4, 4, 7, 2, 2, 5, 7, 9, 5,\n",
       "       4, 4, 9, 0, 8, 9, 8, 0, 1, 2, 3, 4, 5, 6, 7, 8, 9, 0, 1, 2, 3, 4,\n",
       "       5, 6, 7, 8, 9, 0, 1, 2, 3, 4, 5, 6, 7, 8, 9, 0, 9, 5, 5, 6, 5, 0,\n",
       "       9, 8, 9, 8, 4, 1, 7, 7, 3, 5, 1, 0, 0, 2, 2, 7, 8, 2, 0, 1, 2, 6,\n",
       "       3, 3, 7, 3, 3, 4, 6, 6, 6, 4, 9, 1, 5, 0, 9, 5, 2, 8, 2, 0, 0, 1,\n",
       "       7, 6, 3, 2, 1, 7, 4, 6, 3, 1, 3, 9, 1, 7, 6, 8, 4, 3, 1, 4, 0, 5,\n",
       "       3, 6, 9, 6, 1, 7, 5, 4, 4, 7, 2, 8, 2, 2, 5, 7, 9, 5, 4, 8, 8, 4,\n",
       "       9, 0, 8, 9, 8])"
      ]
     },
     "execution_count": 13,
     "metadata": {},
     "output_type": "execute_result"
    }
   ],
   "source": [
    "expected"
   ]
  },
  {
   "cell_type": "code",
   "execution_count": 14,
   "metadata": {},
   "outputs": [
    {
     "data": {
      "text/plain": [
       "array([2, 2, 7, 7, 7, 2, 2, 0, 0, 2, 2, 7, 7, 2, 0, 7, 2, 2, 9, 3, 4, 3,\n",
       "       3, 0, 2, 2, 2, 4, 3, 2, 7, 0, 3, 3, 2, 7, 2, 0, 0, 7, 7, 2, 3, 2,\n",
       "       7, 4, 2, 2, 3, 7, 3, 9, 2, 7, 2, 7, 2, 3, 4, 4, 0, 7, 3, 2, 3, 2,\n",
       "       4, 4, 5, 2, 4, 7, 2, 2, 2, 2, 5, 7, 3, 4, 2, 7, 2, 4, 9, 0, 7, 3,\n",
       "       2, 0, 3, 2, 3, 2, 3, 2, 7, 2, 3, 0, 2, 3, 3, 0, 3, 2, 7, 2, 9, 0,\n",
       "       3, 2, 3, 0, 3, 2, 7, 7, 9, 0, 9, 3, 3, 2, 4, 2, 3, 7, 3, 2, 2, 2,\n",
       "       7, 7, 3, 3, 2, 0, 0, 2, 3, 7, 2, 3, 0, 3, 3, 2, 3, 3, 4, 2, 3, 0,\n",
       "       2, 2, 2, 4, 9, 2, 3, 0, 9, 2, 2, 2, 3, 0, 0, 2, 7, 2, 3, 2, 2, 7,\n",
       "       2, 2, 3, 7, 3, 2, 2, 7, 2, 7, 2, 3, 7, 4, 0, 4, 3, 5, 9, 2, 7, 7,\n",
       "       4, 2, 2, 7, 3, 2, 2, 2, 3, 7, 3, 4, 2, 7, 4, 2, 0, 0, 7, 0, 3, 2,\n",
       "       3, 4, 3, 3, 7, 2, 9, 0, 3, 2, 3, 4, 3, 3, 7, 2, 9, 0, 3, 2, 3, 4,\n",
       "       3, 2, 7, 2, 9, 0, 9, 3, 3, 2, 3, 0, 9, 2, 9, 2, 2, 3, 7, 4, 3, 3,\n",
       "       3, 0, 0, 2, 2, 7, 3, 2, 0, 3, 2, 3, 3, 3, 7, 3, 3, 4, 2, 2, 2, 4,\n",
       "       9, 3, 3, 0, 9, 3, 2, 2, 2, 0, 0, 3, 7, 3, 3, 2, 3, 7, 4, 2, 3, 3,\n",
       "       3, 9, 3, 7, 3, 2, 4, 3, 3, 4, 0, 5, 3, 2, 9, 2, 3, 4, 5, 2, 4, 7,\n",
       "       2, 2, 2, 2, 3, 7, 9, 3, 4, 2, 2, 2, 0, 0, 2, 9, 2, 0, 4, 2, 3, 4,\n",
       "       4, 2, 7, 2, 4, 0, 4, 2, 3, 4, 4, 2, 9, 0, 4, 7, 3, 4, 4, 2, 7, 5,\n",
       "       9, 4, 3, 4, 4, 2, 4, 0, 4, 4, 4, 3, 4, 7, 7, 7, 2, 5, 7, 0, 0, 0,\n",
       "       2, 7, 2, 2, 0, 4, 2, 2, 7, 7, 7, 7, 2, 4, 2, 2, 2, 7, 4, 7, 4, 0,\n",
       "       9, 3, 2, 2, 0, 7, 7, 2, 3, 2, 7, 7, 4, 2, 3, 2, 3, 4, 2, 7, 2, 3,\n",
       "       4, 3, 7, 4, 0, 4, 3, 2, 9, 2, 7, 7, 7, 2, 4, 7, 2, 2, 4, 7, 3, 4,\n",
       "       4, 4, 4, 0, 7, 4, 7, 0, 2, 2, 3, 2, 3, 2, 7, 2, 3, 0, 2, 2, 2, 4,\n",
       "       3, 2, 7, 7, 3, 0, 2, 2, 2, 2, 4, 2, 7, 3, 9, 0, 3, 4, 3, 2, 4, 0,\n",
       "       9, 2, 9, 2, 4, 2, 7, 7, 7, 4, 2, 0, 0, 5, 2, 7, 2, 2, 0, 2, 2, 2,\n",
       "       2, 2, 7, 3, 2, 4, 2, 2, 2, 2, 3, 2, 4, 0, 3, 3, 7, 3, 7, 0, 0, 2,\n",
       "       7, 2, 2, 2, 7, 7, 2, 2, 3, 2, 2, 3, 2, 7, 2, 2, 2, 3, 2, 2, 0, 3,\n",
       "       3, 2, 3, 2, 2, 7, 3, 2, 2, 7, 2, 3, 2, 2, 3, 7, 3, 3, 2, 2, 2, 2,\n",
       "       3, 0, 2, 3, 2])"
      ]
     },
     "execution_count": 14,
     "metadata": {},
     "output_type": "execute_result"
    }
   ],
   "source": [
    "predicted"
   ]
  },
  {
   "cell_type": "code",
   "execution_count": 19,
   "metadata": {},
   "outputs": [
    {
     "data": {
      "text/plain": [
       "array([False, False,  True,  True, False, False, False,  True,  True,\n",
       "        True,  True,  True, False,  True,  True, False,  True, False,\n",
       "       False,  True, False,  True,  True, False, False, False, False,\n",
       "        True, False, False, False,  True, False, False,  True, False,\n",
       "        True,  True,  True, False,  True, False,  True,  True, False,\n",
       "       False, False, False,  True, False,  True,  True, False,  True,\n",
       "       False, False, False,  True, False,  True,  True, False,  True,\n",
       "       False, False, False, False, False,  True, False,  True,  True,\n",
       "        True, False,  True,  True,  True,  True, False, False, False,\n",
       "       False, False,  True,  True,  True, False, False, False,  True,\n",
       "       False,  True,  True, False, False, False,  True, False, False,\n",
       "        True, False, False,  True, False, False, False,  True, False,\n",
       "        True,  True, False,  True,  True, False, False, False,  True,\n",
       "       False,  True,  True,  True, False, False, False, False, False,\n",
       "       False, False, False, False, False, False,  True,  True,  True,\n",
       "       False, False,  True,  True,  True, False,  True, False, False,\n",
       "        True, False, False, False,  True,  True, False, False,  True,\n",
       "       False, False, False, False,  True,  True, False, False,  True,\n",
       "        True, False,  True, False, False,  True,  True, False,  True,\n",
       "       False,  True,  True, False,  True, False, False,  True, False,\n",
       "        True, False, False,  True, False, False, False,  True, False,\n",
       "        True,  True, False,  True, False,  True, False, False,  True,\n",
       "       False, False, False,  True, False, False,  True,  True, False,\n",
       "        True, False, False, False, False, False, False, False,  True,\n",
       "       False,  True, False,  True,  True,  True, False, False,  True,\n",
       "       False,  True,  True, False,  True,  True,  True, False, False,\n",
       "        True, False,  True,  True, False,  True,  True,  True, False,\n",
       "       False,  True, False,  True,  True,  True, False, False, False,\n",
       "       False,  True,  True, False,  True, False, False, False,  True,\n",
       "       False,  True, False, False,  True,  True,  True,  True,  True,\n",
       "       False,  True,  True, False,  True, False,  True,  True,  True,\n",
       "        True,  True,  True, False, False, False,  True,  True, False,\n",
       "       False,  True,  True, False,  True, False,  True,  True,  True,\n",
       "       False,  True, False,  True,  True, False,  True,  True, False,\n",
       "        True, False,  True,  True, False,  True, False, False,  True,\n",
       "        True, False,  True,  True,  True,  True, False,  True, False,\n",
       "       False, False,  True, False,  True,  True,  True, False,  True,\n",
       "        True, False,  True,  True, False,  True, False, False, False,\n",
       "       False,  True, False,  True, False,  True, False,  True,  True,\n",
       "        True, False, False,  True, False, False,  True, False,  True,\n",
       "        True,  True, False, False,  True,  True, False, False,  True,\n",
       "        True, False, False,  True, False,  True, False, False, False,\n",
       "       False, False, False,  True, False, False, False, False,  True,\n",
       "       False,  True,  True, False,  True, False,  True,  True, False,\n",
       "        True,  True, False,  True,  True, False,  True, False, False,\n",
       "       False,  True, False, False,  True, False, False, False, False,\n",
       "       False, False, False,  True,  True, False,  True, False,  True,\n",
       "       False,  True, False,  True,  True, False,  True,  True, False,\n",
       "        True, False,  True, False, False,  True, False, False,  True,\n",
       "        True, False,  True,  True, False,  True, False,  True, False,\n",
       "       False,  True, False, False,  True,  True,  True,  True, False,\n",
       "        True, False, False,  True,  True, False,  True, False, False,\n",
       "       False,  True, False,  True,  True, False, False, False,  True,\n",
       "       False, False,  True, False,  True, False,  True, False, False,\n",
       "        True, False, False,  True, False,  True, False, False, False,\n",
       "       False,  True, False,  True,  True, False, False, False, False,\n",
       "       False,  True,  True, False,  True, False,  True, False,  True,\n",
       "        True, False, False, False,  True,  True, False,  True,  True,\n",
       "       False,  True,  True, False,  True, False, False, False,  True,\n",
       "        True, False,  True, False, False, False, False, False, False,\n",
       "       False,  True, False, False, False, False, False,  True,  True,\n",
       "       False,  True, False, False,  True, False,  True, False, False,\n",
       "        True, False, False, False, False,  True, False, False, False,\n",
       "        True, False, False,  True, False,  True, False, False, False,\n",
       "       False,  True, False, False, False,  True,  True, False,  True,\n",
       "        True, False,  True, False, False, False, False, False, False,\n",
       "       False,  True, False, False, False])"
      ]
     },
     "execution_count": 19,
     "metadata": {},
     "output_type": "execute_result"
    }
   ],
   "source": [
    "T = expected == predicted\n",
    "T"
   ]
  },
  {
   "cell_type": "code",
   "execution_count": null,
   "metadata": {},
   "outputs": [],
   "source": []
  },
  {
   "cell_type": "code",
   "execution_count": null,
   "metadata": {},
   "outputs": [],
   "source": []
  }
 ],
 "metadata": {
  "kernelspec": {
   "display_name": "Python 3",
   "language": "python",
   "name": "python3"
  },
  "language_info": {
   "codemirror_mode": {
    "name": "ipython",
    "version": 3
   },
   "file_extension": ".py",
   "mimetype": "text/x-python",
   "name": "python",
   "nbconvert_exporter": "python",
   "pygments_lexer": "ipython3",
   "version": "3.8.3"
  }
 },
 "nbformat": 4,
 "nbformat_minor": 4
}
